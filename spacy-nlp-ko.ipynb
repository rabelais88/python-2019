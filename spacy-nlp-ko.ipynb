{
 "cells": [
  {
   "cell_type": "markdown",
   "metadata": {},
   "source": [
    "# NLP demo"
   ]
  },
  {
   "cell_type": "code",
   "execution_count": 8,
   "metadata": {},
   "outputs": [
    {
     "name": "stdout",
     "output_type": "stream",
     "text": [
      "tag - pos - text\n",
      "NNG - NOUN - 텍스트\n",
      "NNG - NOUN - 확인\n",
      "XSV - X - 해\n",
      "VX - AUX - 보\n",
      "ETM - X - 는\n",
      "NNB - NOUN - 중\n"
     ]
    }
   ],
   "source": [
    "# spacy with Korean(using mecab-ko + mecab-ko-dic)\n",
    "from spacy.lang.ko import Korean\n",
    "nlp = Korean()\n",
    "tokens = nlp(u\"텍스트 확인해 보는 중\")\n",
    "print(\"tag - pos - text\")\n",
    "for t in tokens:\n",
    "    print(f\"{t.tag_} - {t.pos_} - {t}\")"
   ]
  },
  {
   "cell_type": "code",
   "execution_count": 7,
   "metadata": {},
   "outputs": [
    {
     "name": "stdout",
     "output_type": "stream",
     "text": [
      "tag - pos - text\n",
      "VB - VERB - see\n",
      "WRB - ADV - how\n",
      "DT - DET - the\n",
      "NN - NOUN - text\n",
      "VBZ - VERB - is\n",
      "VBG - VERB - working\n"
     ]
    }
   ],
   "source": [
    "import spacy\n",
    "nlp = spacy.load(\"en_core_web_sm\")\n",
    "tokens = nlp(u\"see how the text is working\")\n",
    "# [{\"tag\": t.tag_, \"pos\": t.pos_, \"text\": t} for t in tokens]\n",
    "print(\"tag - pos - text\")\n",
    "for t in tokens:\n",
    "    print(f\"{t.tag_} - {t.pos_} - {t}\")\n"
   ]
  },
  {
   "cell_type": "code",
   "execution_count": null,
   "metadata": {},
   "outputs": [],
   "source": []
  }
 ],
 "metadata": {
  "kernelspec": {
   "display_name": "Python 3",
   "language": "python",
   "name": "python3"
  },
  "language_info": {
   "codemirror_mode": {
    "name": "ipython",
    "version": 3
   },
   "file_extension": ".py",
   "mimetype": "text/x-python",
   "name": "python",
   "nbconvert_exporter": "python",
   "pygments_lexer": "ipython3",
   "version": "3.7.0"
  }
 },
 "nbformat": 4,
 "nbformat_minor": 2
}
